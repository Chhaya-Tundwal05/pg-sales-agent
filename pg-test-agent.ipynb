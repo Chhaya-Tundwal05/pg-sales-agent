{
 "cells": [
  {
   "cell_type": "code",
   "execution_count": 1,
   "metadata": {},
   "outputs": [
    {
     "name": "stdout",
     "output_type": "stream",
     "text": [
      "Requirement already satisfied: predictionguard in /opt/anaconda3/lib/python3.11/site-packages (2.7.1)\n",
      "Requirement already satisfied: langchain in /opt/anaconda3/lib/python3.11/site-packages (0.3.17)\n",
      "Requirement already satisfied: langchain_community in /opt/anaconda3/lib/python3.11/site-packages (0.3.16)\n",
      "Requirement already satisfied: google-search-results in /opt/anaconda3/lib/python3.11/site-packages (2.4.2)\n",
      "Requirement already satisfied: tabulate>=0.8.10 in /opt/anaconda3/lib/python3.11/site-packages (from predictionguard) (0.9.0)\n",
      "Requirement already satisfied: requests>=2.27.1 in /opt/anaconda3/lib/python3.11/site-packages (from predictionguard) (2.32.3)\n",
      "Requirement already satisfied: PyYAML>=5.3 in /opt/anaconda3/lib/python3.11/site-packages (from langchain) (6.0.1)\n",
      "Requirement already satisfied: SQLAlchemy<3,>=1.4 in /opt/anaconda3/lib/python3.11/site-packages (from langchain) (2.0.25)\n",
      "Requirement already satisfied: aiohttp<4.0.0,>=3.8.3 in /opt/anaconda3/lib/python3.11/site-packages (from langchain) (3.9.3)\n",
      "Requirement already satisfied: langchain-core<0.4.0,>=0.3.33 in /opt/anaconda3/lib/python3.11/site-packages (from langchain) (0.3.33)\n",
      "Requirement already satisfied: langchain-text-splitters<0.4.0,>=0.3.3 in /opt/anaconda3/lib/python3.11/site-packages (from langchain) (0.3.5)\n",
      "Requirement already satisfied: langsmith<0.4,>=0.1.17 in /opt/anaconda3/lib/python3.11/site-packages (from langchain) (0.3.4)\n",
      "Requirement already satisfied: numpy<2,>=1.22.4 in /opt/anaconda3/lib/python3.11/site-packages (from langchain) (1.26.4)\n",
      "Requirement already satisfied: pydantic<3.0.0,>=2.7.4 in /opt/anaconda3/lib/python3.11/site-packages (from langchain) (2.9.2)\n",
      "Requirement already satisfied: tenacity!=8.4.0,<10,>=8.1.0 in /opt/anaconda3/lib/python3.11/site-packages (from langchain) (8.2.2)\n",
      "Requirement already satisfied: dataclasses-json<0.7,>=0.5.7 in /opt/anaconda3/lib/python3.11/site-packages (from langchain_community) (0.6.7)\n",
      "Requirement already satisfied: httpx-sse<0.5.0,>=0.4.0 in /opt/anaconda3/lib/python3.11/site-packages (from langchain_community) (0.4.0)\n",
      "Requirement already satisfied: pydantic-settings<3.0.0,>=2.4.0 in /opt/anaconda3/lib/python3.11/site-packages (from langchain_community) (2.7.1)\n",
      "Requirement already satisfied: aiosignal>=1.1.2 in /opt/anaconda3/lib/python3.11/site-packages (from aiohttp<4.0.0,>=3.8.3->langchain) (1.2.0)\n",
      "Requirement already satisfied: attrs>=17.3.0 in /opt/anaconda3/lib/python3.11/site-packages (from aiohttp<4.0.0,>=3.8.3->langchain) (24.2.0)\n",
      "Requirement already satisfied: frozenlist>=1.1.1 in /opt/anaconda3/lib/python3.11/site-packages (from aiohttp<4.0.0,>=3.8.3->langchain) (1.4.0)\n",
      "Requirement already satisfied: multidict<7.0,>=4.5 in /opt/anaconda3/lib/python3.11/site-packages (from aiohttp<4.0.0,>=3.8.3->langchain) (6.0.4)\n",
      "Requirement already satisfied: yarl<2.0,>=1.0 in /opt/anaconda3/lib/python3.11/site-packages (from aiohttp<4.0.0,>=3.8.3->langchain) (1.9.3)\n",
      "Requirement already satisfied: marshmallow<4.0.0,>=3.18.0 in /opt/anaconda3/lib/python3.11/site-packages (from dataclasses-json<0.7,>=0.5.7->langchain_community) (3.26.0)\n",
      "Requirement already satisfied: typing-inspect<1,>=0.4.0 in /opt/anaconda3/lib/python3.11/site-packages (from dataclasses-json<0.7,>=0.5.7->langchain_community) (0.9.0)\n",
      "Requirement already satisfied: jsonpatch<2.0,>=1.33 in /opt/anaconda3/lib/python3.11/site-packages (from langchain-core<0.4.0,>=0.3.33->langchain) (1.33)\n",
      "Requirement already satisfied: packaging<25,>=23.2 in /opt/anaconda3/lib/python3.11/site-packages (from langchain-core<0.4.0,>=0.3.33->langchain) (24.2)\n",
      "Requirement already satisfied: typing-extensions>=4.7 in /opt/anaconda3/lib/python3.11/site-packages (from langchain-core<0.4.0,>=0.3.33->langchain) (4.12.2)\n",
      "Requirement already satisfied: httpx<1,>=0.23.0 in /opt/anaconda3/lib/python3.11/site-packages (from langsmith<0.4,>=0.1.17->langchain) (0.26.0)\n",
      "Requirement already satisfied: orjson<4.0.0,>=3.9.14 in /opt/anaconda3/lib/python3.11/site-packages (from langsmith<0.4,>=0.1.17->langchain) (3.10.15)\n",
      "Requirement already satisfied: requests-toolbelt<2.0.0,>=1.0.0 in /opt/anaconda3/lib/python3.11/site-packages (from langsmith<0.4,>=0.1.17->langchain) (1.0.0)\n",
      "Requirement already satisfied: zstandard<0.24.0,>=0.23.0 in /opt/anaconda3/lib/python3.11/site-packages (from langsmith<0.4,>=0.1.17->langchain) (0.23.0)\n",
      "Requirement already satisfied: annotated-types>=0.6.0 in /opt/anaconda3/lib/python3.11/site-packages (from pydantic<3.0.0,>=2.7.4->langchain) (0.7.0)\n",
      "Requirement already satisfied: pydantic-core==2.23.4 in /opt/anaconda3/lib/python3.11/site-packages (from pydantic<3.0.0,>=2.7.4->langchain) (2.23.4)\n",
      "Requirement already satisfied: python-dotenv>=0.21.0 in /opt/anaconda3/lib/python3.11/site-packages (from pydantic-settings<3.0.0,>=2.4.0->langchain_community) (0.21.0)\n",
      "Requirement already satisfied: charset-normalizer<4,>=2 in /opt/anaconda3/lib/python3.11/site-packages (from requests>=2.27.1->predictionguard) (2.0.4)\n",
      "Requirement already satisfied: idna<4,>=2.5 in /opt/anaconda3/lib/python3.11/site-packages (from requests>=2.27.1->predictionguard) (3.4)\n",
      "Requirement already satisfied: urllib3<3,>=1.21.1 in /opt/anaconda3/lib/python3.11/site-packages (from requests>=2.27.1->predictionguard) (2.0.7)\n",
      "Requirement already satisfied: certifi>=2017.4.17 in /opt/anaconda3/lib/python3.11/site-packages (from requests>=2.27.1->predictionguard) (2024.7.4)\n",
      "Requirement already satisfied: anyio in /opt/anaconda3/lib/python3.11/site-packages (from httpx<1,>=0.23.0->langsmith<0.4,>=0.1.17->langchain) (4.2.0)\n",
      "Requirement already satisfied: httpcore==1.* in /opt/anaconda3/lib/python3.11/site-packages (from httpx<1,>=0.23.0->langsmith<0.4,>=0.1.17->langchain) (1.0.2)\n",
      "Requirement already satisfied: sniffio in /opt/anaconda3/lib/python3.11/site-packages (from httpx<1,>=0.23.0->langsmith<0.4,>=0.1.17->langchain) (1.3.0)\n",
      "Requirement already satisfied: h11<0.15,>=0.13 in /opt/anaconda3/lib/python3.11/site-packages (from httpcore==1.*->httpx<1,>=0.23.0->langsmith<0.4,>=0.1.17->langchain) (0.14.0)\n",
      "Requirement already satisfied: jsonpointer>=1.9 in /opt/anaconda3/lib/python3.11/site-packages (from jsonpatch<2.0,>=1.33->langchain-core<0.4.0,>=0.3.33->langchain) (2.1)\n",
      "Requirement already satisfied: mypy-extensions>=0.3.0 in /opt/anaconda3/lib/python3.11/site-packages (from typing-inspect<1,>=0.4.0->dataclasses-json<0.7,>=0.5.7->langchain_community) (1.0.0)\n"
     ]
    }
   ],
   "source": [
    "! pip install predictionguard langchain langchain_community google-search-results"
   ]
  },
  {
   "cell_type": "code",
   "execution_count": 2,
   "metadata": {},
   "outputs": [],
   "source": [
    "from langchain.agents import load_tools\n",
    "from langchain.agents import initialize_agent\n",
    "from langchain.agents import AgentType\n",
    "from langchain.llms import PredictionGuard\n",
    "import os\n",
    "from getpass import getpass"
   ]
  },
  {
   "cell_type": "code",
   "execution_count": 3,
   "metadata": {},
   "outputs": [],
   "source": [
    "# pg_access_token = getpass('Enter your Prediction Guard access token: ')\n",
    "pg_access_token = 'u7ojcxj2jrQ9ygro7sRCXETHfgQf84NmhnXUFEsk'\n",
    "os.environ['PREDICTIONGUARD_TOKEN'] = pg_access_token"
   ]
  },
  {
   "cell_type": "code",
   "execution_count": 8,
   "metadata": {},
   "outputs": [],
   "source": [
    "from langchain_predictionguard import PredictionGuard\n",
    "\n",
    "# Initialize the LLM\n",
    "llm = PredictionGuard(model=\"Hermes-3-Llama-3.1-8B\", predictionguard_api_key=pg_access_token)"
   ]
  },
  {
   "cell_type": "code",
   "execution_count": 7,
   "metadata": {},
   "outputs": [],
   "source": [
    "def extract_meeting_info(transcript):\n",
    "    prompt = f\"\"\"\n",
    "    You are an AI assistant specialized in extracting key information from meeting transcripts. Given the following transcript, please provide:\n",
    "\n",
    "    1. **Meeting Date and Time**: If mentioned.\n",
    "    2. **Participants**: List all participants.\n",
    "    3. **Agenda Items Discussed**: Bullet points of main topics.\n",
    "    4. **Action Items**: Bullet points of tasks assigned, including assignees and due dates if available.\n",
    "    5. **Decisions Made**: Bullet points of any decisions reached during the meeting.\n",
    "\n",
    "    Transcript:\n",
    "    {transcript}\n",
    "\n",
    "    Please format your response with clear headings and bullet points where appropriate.\n",
    "    \"\"\"\n",
    "    response = llm.invoke(prompt)\n",
    "    return response"
   ]
  },
  {
   "cell_type": "code",
   "execution_count": 9,
   "metadata": {},
   "outputs": [
    {
     "name": "stdout",
     "output_type": "stream",
     "text": [
      "\n",
      "\n",
      "\n",
      "\n",
      "**Meeting Date and Time**: January 30, 2025, 10:00 AM - 11:30 AM\n",
      "\n",
      "**Participants**:\n",
      "- Alice Johnson (Project Manager)\n",
      "- Bob Smith (Lead Engineer)\n",
      "- Carol Davis (Marketing Head)\n",
      "- David Lee (Finance Director)\n",
      "\n",
      "**Agenda Items Discussed**:\n",
      "- Review of Q1 goals\n",
      "- Status update on backend development\n",
      "- Marketing launch preparation\n",
      "- Budget adjustments for influencer partnerships\n",
      "\n",
      "**Action Items**:\n",
      "- Bob Smith: Resolve API integration issues within two weeks.\n",
      "- Carol Davis: Finalize marketing strategy after confirming the release date.\n",
      "- David Lee: Review budget and propose adjustments by Friday.\n",
      "\n",
      "**Decisions Made**:\n",
      "- Set up a weekly check-in meeting every Tuesday at 2 PM to monitor progress.://://>://>://>://>://>://>://>://>://>://>://>://>://>://>://>://>://>://>://>://>://>://> //> //>\n"
     ]
    }
   ],
   "source": [
    "transcript = \"\"\"\n",
    "Meeting Title: Q1 Project Review and Next Steps\n",
    "Date: January 30, 2025\n",
    "Time: 10:00 AM - 11:30 AM\n",
    "Attendees:\n",
    "\t•\tAlice Johnson (Project Manager)\n",
    "\t•\tBob Smith (Lead Engineer)\n",
    "\t•\tCarol Davis (Marketing Head)\n",
    "\t•\tDavid Lee (Finance Director)\n",
    "\n",
    "Transcript:\n",
    "\n",
    "Alice Johnson: Good morning, everyone. Let us start with a quick review of our Q1 goals. Bob, can you give us a status update on the engineering side?\n",
    "\n",
    "Bob Smith: Sure! We have completed 80 percent of the backend development for the new platform. However, we are facing some delays due to API integration issues with our third-party provider. We might need an additional two weeks to resolve this.\n",
    "\n",
    "Alice Johnson: Noted. Carol, how is the marketing launch preparation going?\n",
    "\n",
    "Carol Davis: The content and social media campaigns are ready, but we need final confirmation on the product release date before we go live. We also need an additional $10,000 in the budget for influencer partnerships.\n",
    "\n",
    "David Lee: From a financial standpoint, we can accommodate the additional $10,000, but we need to cut back elsewhere. I will analyze our budget and propose adjustments by Friday.\n",
    "\n",
    "Alice Johnson: That sounds good. Let us summarize the key action items:\n",
    "\t1.\tBob will work on resolving API issues within the next two weeks.\n",
    "\t2.\tCarol will finalize the marketing strategy once we confirm the release date.\n",
    "\t3.\tDavid will review the budget and propose adjustments by Friday.\n",
    "\n",
    "Bob Smith: One more thing—I recommend setting up a weekly check-in meeting to monitor progress.\n",
    "\n",
    "Alice Johnson: Great idea! Let us schedule a weekly status meeting every Tuesday at 2 PM.\n",
    "\n",
    "Carol Davis: Sounds good to me.\n",
    "\n",
    "David Lee: Agreed.\n",
    "\n",
    "Alice Johnson: Alright, thanks, everyone! Meeting adjourned.\n",
    "\n",
    "\"\"\"\n",
    "\n",
    "extracted_info = extract_meeting_info(transcript)\n",
    "print(extracted_info)"
   ]
  },
  {
   "cell_type": "code",
   "execution_count": null,
   "metadata": {},
   "outputs": [],
   "source": []
  }
 ],
 "metadata": {
  "kernelspec": {
   "display_name": "Python 3",
   "language": "python",
   "name": "python3"
  },
  "language_info": {
   "codemirror_mode": {
    "name": "ipython",
    "version": 3
   },
   "file_extension": ".py",
   "mimetype": "text/x-python",
   "name": "python",
   "nbconvert_exporter": "python",
   "pygments_lexer": "ipython3",
   "version": "3.11.7"
  }
 },
 "nbformat": 4,
 "nbformat_minor": 2
}
